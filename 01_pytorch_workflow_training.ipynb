%pylab inline



def gaussseidel(A,b,x0,tol,itermax) :
    # Resolution de Ax = b par Gauss-Seidel 
    # La matrice A doit etre inversible
    # Le second memebre b doit etre de taille compatible avec l'ordre de A
